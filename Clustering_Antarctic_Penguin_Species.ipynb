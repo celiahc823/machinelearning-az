{
  "nbformat": 4,
  "nbformat_minor": 0,
  "metadata": {
    "colab": {
      "provenance": [],
      "mount_file_id": "16XJ_s9b0QbnqUYbatgywjkuT7JDeHkeN",
      "authorship_tag": "ABX9TyNtFq4Axqfinpkawy87VB83",
      "include_colab_link": true
    },
    "kernelspec": {
      "name": "python3",
      "display_name": "Python 3"
    },
    "language_info": {
      "name": "python"
    }
  },
  "cells": [
    {
      "cell_type": "markdown",
      "metadata": {
        "id": "view-in-github",
        "colab_type": "text"
      },
      "source": [
        "<a href=\"https://colab.research.google.com/github/celiahc823/machinelearning-az/blob/master/Clustering_Antarctic_Penguin_Species.ipynb\" target=\"_parent\"><img src=\"https://colab.research.google.com/assets/colab-badge.svg\" alt=\"Open In Colab\"/></a>"
      ]
    },
    {
      "cell_type": "code",
      "execution_count": null,
      "metadata": {
        "id": "0In7uWmsYyOW"
      },
      "outputs": [],
      "source": [
        "import pandas as pd\n",
        "import matplotlib.pyplot as plt\n",
        "from sklearn.cluster import KMeans\n",
        "from sklearn.preprocessing import StandardScaler"
      ]
    },
    {
      "cell_type": "code",
      "source": [
        "# dataset de pingüinos\n",
        "ruta_csv = \"/content/drive/MyDrive/penguins.csv\"  # Asegúrate de poner la ruta correcta\n",
        "penguins_df = pd.read_csv(ruta_csv)\n",
        "\n",
        "# revisar dataset\n",
        "print(penguins_df.info())\n",
        "print(penguins_df.head())\n"
      ],
      "metadata": {
        "colab": {
          "base_uri": "https://localhost:8080/"
        },
        "id": "ZWfidJKRY_qz",
        "outputId": "62a9e64e-9ca8-44bb-c3f2-51886d98b9fa"
      },
      "execution_count": null,
      "outputs": [
        {
          "output_type": "stream",
          "name": "stdout",
          "text": [
            "<class 'pandas.core.frame.DataFrame'>\n",
            "RangeIndex: 332 entries, 0 to 331\n",
            "Data columns (total 5 columns):\n",
            " #   Column             Non-Null Count  Dtype  \n",
            "---  ------             --------------  -----  \n",
            " 0   culmen_length_mm   332 non-null    float64\n",
            " 1   culmen_depth_mm    332 non-null    float64\n",
            " 2   flipper_length_mm  332 non-null    float64\n",
            " 3   body_mass_g        332 non-null    float64\n",
            " 4   sex                332 non-null    object \n",
            "dtypes: float64(4), object(1)\n",
            "memory usage: 13.1+ KB\n",
            "None\n",
            "   culmen_length_mm  culmen_depth_mm  flipper_length_mm  body_mass_g     sex\n",
            "0              39.1             18.7              181.0       3750.0    MALE\n",
            "1              39.5             17.4              186.0       3800.0  FEMALE\n",
            "2              40.3             18.0              195.0       3250.0  FEMALE\n",
            "3              36.7             19.3              193.0       3450.0  FEMALE\n",
            "4              39.3             20.6              190.0       3650.0    MALE\n"
          ]
        }
      ]
    },
    {
      "cell_type": "code",
      "source": [
        "# Columnas numéricas para el clustering\n",
        "columnas_numericas = ['culmen_length_mm', 'culmen_depth_mm', 'flipper_length_mm', 'body_mass_g']\n",
        "penguins_numerico = penguins_df[columnas_numericas]\n"
      ],
      "metadata": {
        "id": "26tIqHDqZ81N"
      },
      "execution_count": null,
      "outputs": []
    },
    {
      "cell_type": "code",
      "source": [
        "# Normalizar los datos para que tengan la misma escala\n",
        "escalador = StandardScaler()\n",
        "penguins_escalado = escalador.fit_transform(penguins_numerico)\n"
      ],
      "metadata": {
        "id": "jPBLW94YaIOV"
      },
      "execution_count": null,
      "outputs": []
    },
    {
      "cell_type": "code",
      "source": [
        "# Probar diferentes valores de \"k\" para encontrar el número óptimo de clusters usando el codito\n",
        "inercias = []\n",
        "valores_k = range(1, 10)\n",
        "\n",
        "for k in valores_k:\n",
        "    modelo_kmeans = KMeans(n_clusters=k, random_state=42, n_init=10)\n",
        "    modelo_kmeans.fit(penguins_escalado)\n",
        "    inercias.append(modelo_kmeans.inertia_)  # Guardamos la inercia para cada k\n",
        "\n",
        "# Graficar la inercia para visualizar el \"codo\"\n",
        "plt.plot(valores_k, inercias, '-o')\n",
        "plt.xlabel('Número de Clusters (k)')\n",
        "plt.ylabel('Inercia')\n",
        "plt.title('Método del Codo para elegir k')\n",
        "plt.show()\n"
      ],
      "metadata": {
        "colab": {
          "base_uri": "https://localhost:8080/",
          "height": 472
        },
        "id": "Ig57Zldgab3E",
        "outputId": "3e1d5940-bb6a-47df-e5e9-51eeae90e7ca"
      },
      "execution_count": null,
      "outputs": [
        {
          "output_type": "display_data",
          "data": {
            "text/plain": [
              "<Figure size 640x480 with 1 Axes>"
            ],
            "image/png": "[encoded data removed]"
          },
          "metadata": {}
        }
      ]
    },
    {
      "cell_type": "code",
      "source": [
        "# Aplicar KMeans con k=3\n",
        "modelo_kmeans = KMeans(n_clusters=k_optimo, random_state=42, n_init=10)\n",
        "penguins_df['cluster'] = modelo_kmeans.fit_predict(penguins_escalado)\n"
      ],
      "metadata": {
        "id": "jWwSG5woamPh"
      },
      "execution_count": null,
      "outputs": []
    },
    {
      "cell_type": "code",
      "source": [
        "#Crear el DataFrame\n",
        "stat_penguins = penguins_df.groupby('cluster')[columnas_numericas].mean()\n",
        "\n",
        "# Mostrar el DataFrame\n",
        "print(stat_penguins)"
      ],
      "metadata": {
        "colab": {
          "base_uri": "https://localhost:8080/"
        },
        "id": "SBd-BX8GdzJg",
        "outputId": "5bf87eae-39f5-4c27-b1c5-6adb7e28b54f"
      },
      "execution_count": null,
      "outputs": [
        {
          "output_type": "stream",
          "name": "stdout",
          "text": [
            "         culmen_length_mm  culmen_depth_mm  flipper_length_mm  body_mass_g\n",
            "cluster                                                                   \n",
            "0               47.662353        18.748235         196.917647  3898.235294\n",
            "1               47.568067        14.996639         217.235294  5092.436975\n",
            "2               38.305469        18.098437         188.554688  3587.500000\n"
          ]
        }
      ]
    }
  ]
}